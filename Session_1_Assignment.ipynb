{
  "nbformat": 4,
  "nbformat_minor": 0,
  "metadata": {
    "colab": {
      "name": "Endgame Assignment 1.ipynb",
      "provenance": [],
      "collapsed_sections": [],
      "include_colab_link": true
    },
    "kernelspec": {
      "name": "python3",
      "display_name": "Python 3"
    },
    "language_info": {
      "name": "python"
    }
  },
  "cells": [
    {
      "cell_type": "markdown",
      "metadata": {
        "id": "view-in-github",
        "colab_type": "text"
      },
      "source": [
        "<a href=\"https://colab.research.google.com/github/pratiksgole/TSAI-Assignments/blob/main/Session_1_Assignment.ipynb\" target=\"_parent\"><img src=\"https://colab.research.google.com/assets/colab-badge.svg\" alt=\"Open In Colab\"/></a>"
      ]
    },
    {
      "cell_type": "code",
      "metadata": {
        "colab": {
          "base_uri": "https://localhost:8080/"
        },
        "id": "GC_6PeobwwkH",
        "outputId": "95097657-5000-4bc5-c19e-8c167268852e"
      },
      "source": [
        "import torch\n",
        "from torch.autograd import Variable\n",
        "import torch.nn as nn\n",
        "import torch.nn.functional as F\n",
        "import torch.optim as optim\n",
        "import numpy as np\n",
        "import matplotlib.pyplot as plt\n",
        "%matplotlib inline\n",
        "torch.manual_seed(2)"
      ],
      "execution_count": 1,
      "outputs": [
        {
          "output_type": "execute_result",
          "data": {
            "text/plain": [
              "<torch._C.Generator at 0x7f880586aa90>"
            ]
          },
          "metadata": {},
          "execution_count": 1
        }
      ]
    },
    {
      "cell_type": "code",
      "metadata": {
        "id": "bL64bMTkw2GP"
      },
      "source": [
        "X = torch.Tensor([[0,0], [0,1], [1,0], [1,1]])\n",
        "Y = torch.Tensor([0, 1, 1, 0]).view(-1,1)"
      ],
      "execution_count": 2,
      "outputs": []
    },
    {
      "cell_type": "code",
      "metadata": {
        "id": "aC82kEAIw3Wf"
      },
      "source": [
        "class XOR(nn.Module):\n",
        "    def __init__(self, input_dim = 2, output_dim=1):\n",
        "        super(XOR, self).__init__()\n",
        "        self.lin1 = nn.Linear(input_dim, 11)\n",
        "        self.lin2 = nn.Linear(11, output_dim,bias=False)\n",
        "    \n",
        "    def forward(self, x):\n",
        "        x = self.lin1(x)\n",
        "        x = F.tanh(x)\n",
        "        x = self.lin2(x)\n",
        "        #x = F.tanh(x)\n",
        "        return x"
      ],
      "execution_count": 30,
      "outputs": []
    },
    {
      "cell_type": "code",
      "metadata": {
        "colab": {
          "base_uri": "https://localhost:8080/"
        },
        "id": "8gQIQExYw65K",
        "outputId": "bb62c4e7-50bf-4a00-a409-766edd222db9"
      },
      "source": [
        "model = XOR()\n",
        "print(model)\n",
        "from torchsummary import summary\n",
        "summary(model, (2,2))"
      ],
      "execution_count": 31,
      "outputs": [
        {
          "output_type": "stream",
          "name": "stdout",
          "text": [
            "XOR(\n",
            "  (lin1): Linear(in_features=2, out_features=11, bias=True)\n",
            "  (lin2): Linear(in_features=11, out_features=1, bias=False)\n",
            ")\n",
            "----------------------------------------------------------------\n",
            "        Layer (type)               Output Shape         Param #\n",
            "================================================================\n",
            "            Linear-1                [-1, 2, 11]              33\n",
            "            Linear-2                 [-1, 2, 1]              11\n",
            "================================================================\n",
            "Total params: 44\n",
            "Trainable params: 44\n",
            "Non-trainable params: 0\n",
            "----------------------------------------------------------------\n",
            "Input size (MB): 0.00\n",
            "Forward/backward pass size (MB): 0.00\n",
            "Params size (MB): 0.00\n",
            "Estimated Total Size (MB): 0.00\n",
            "----------------------------------------------------------------\n"
          ]
        },
        {
          "output_type": "stream",
          "name": "stderr",
          "text": [
            "/usr/local/lib/python3.7/dist-packages/torch/nn/functional.py:1794: UserWarning: nn.functional.tanh is deprecated. Use torch.tanh instead.\n",
            "  warnings.warn(\"nn.functional.tanh is deprecated. Use torch.tanh instead.\")\n"
          ]
        }
      ]
    },
    {
      "cell_type": "code",
      "metadata": {
        "colab": {
          "base_uri": "https://localhost:8080/"
        },
        "id": "ro2uf7BCE7ab",
        "outputId": "660d21fe-df8d-4a11-f8ca-41c8c973cdef"
      },
      "source": [
        "#var1= Variable(X[data_point], requires_grad=False)\n",
        "var1 = torch.Tensor([[1,0]])\n",
        "y_hat = model(var1)\n",
        "y_hat"
      ],
      "execution_count": 25,
      "outputs": [
        {
          "output_type": "stream",
          "name": "stderr",
          "text": [
            "/usr/local/lib/python3.7/dist-packages/torch/nn/functional.py:1794: UserWarning: nn.functional.tanh is deprecated. Use torch.tanh instead.\n",
            "  warnings.warn(\"nn.functional.tanh is deprecated. Use torch.tanh instead.\")\n"
          ]
        },
        {
          "output_type": "execute_result",
          "data": {
            "text/plain": [
              "tensor([[0.0483]], grad_fn=<MmBackward>)"
            ]
          },
          "metadata": {},
          "execution_count": 25
        }
      ]
    },
    {
      "cell_type": "code",
      "metadata": {
        "id": "yeotEq19x6XF"
      },
      "source": [
        "def weights_init(model):\n",
        "    for m in model.modules():\n",
        "        if isinstance(m, nn.Linear):\n",
        "            # initialize the weight tensor, here we use a normal distribution\n",
        "            m.weight.data.normal_(0, 1)\n",
        "\n",
        "weights_init(model)"
      ],
      "execution_count": 32,
      "outputs": []
    },
    {
      "cell_type": "code",
      "metadata": {
        "id": "WrD_sNzLx78e"
      },
      "source": [
        "loss_func = nn.L1Loss()"
      ],
      "execution_count": 33,
      "outputs": []
    },
    {
      "cell_type": "code",
      "metadata": {
        "id": "-zvbrMd2x_lA"
      },
      "source": [
        "optimizer = optim.SGD(model.parameters(), lr=0.02, momentum=0.9)\n"
      ],
      "execution_count": 34,
      "outputs": []
    },
    {
      "cell_type": "code",
      "metadata": {
        "colab": {
          "base_uri": "https://localhost:8080/"
        },
        "id": "q7tWa3D7yA5X",
        "outputId": "24a32cd8-4f99-4213-e612-0237468f3bda"
      },
      "source": [
        "epochs = 2001\n",
        "steps = X.size(0)\n",
        "for i in range(epochs):\n",
        "    for j in range(steps):\n",
        "        data_point = np.random.randint(X.size(0))\n",
        "        x_var = Variable(X[data_point], requires_grad=False)\n",
        "        y_var = Variable(Y[data_point], requires_grad=False)\n",
        "        \n",
        "        optimizer.zero_grad()\n",
        "        y_hat = model(x_var)\n",
        "        loss = loss_func.forward(y_hat, y_var)\n",
        "        loss.backward()\n",
        "        optimizer.step()\n",
        "        \n",
        "    if i % 50 == 0:\n",
        "        print( \"Epoch: {0}, Loss: {1}, \".format(i, loss.data.numpy()))"
      ],
      "execution_count": 35,
      "outputs": [
        {
          "output_type": "stream",
          "name": "stderr",
          "text": [
            "/usr/local/lib/python3.7/dist-packages/torch/nn/functional.py:1794: UserWarning: nn.functional.tanh is deprecated. Use torch.tanh instead.\n",
            "  warnings.warn(\"nn.functional.tanh is deprecated. Use torch.tanh instead.\")\n"
          ]
        },
        {
          "output_type": "stream",
          "name": "stdout",
          "text": [
            "Epoch: 0, Loss: 1.413220763206482, \n",
            "Epoch: 50, Loss: 1.1154054403305054, \n",
            "Epoch: 100, Loss: 0.237190842628479, \n",
            "Epoch: 150, Loss: 0.21025750041007996, \n",
            "Epoch: 200, Loss: 0.6822491884231567, \n",
            "Epoch: 250, Loss: 0.12270309031009674, \n",
            "Epoch: 300, Loss: 0.07230877876281738, \n",
            "Epoch: 350, Loss: 0.16265469789505005, \n",
            "Epoch: 400, Loss: 0.06721126288175583, \n",
            "Epoch: 450, Loss: 0.07226309180259705, \n",
            "Epoch: 500, Loss: 0.31349772214889526, \n",
            "Epoch: 550, Loss: 0.3605807423591614, \n",
            "Epoch: 600, Loss: 0.3837641477584839, \n",
            "Epoch: 650, Loss: 0.01871514320373535, \n",
            "Epoch: 700, Loss: 0.04252946004271507, \n",
            "Epoch: 750, Loss: 0.18440091609954834, \n",
            "Epoch: 800, Loss: 0.12635371088981628, \n",
            "Epoch: 850, Loss: 0.3323517143726349, \n",
            "Epoch: 900, Loss: 0.1317652016878128, \n",
            "Epoch: 950, Loss: 0.05130302906036377, \n",
            "Epoch: 1000, Loss: 0.01273791491985321, \n",
            "Epoch: 1050, Loss: 0.11596035957336426, \n",
            "Epoch: 1100, Loss: 0.10143528878688812, \n",
            "Epoch: 1150, Loss: 0.0024285896215587854, \n",
            "Epoch: 1200, Loss: 0.09797438979148865, \n",
            "Epoch: 1250, Loss: 0.014512240886688232, \n",
            "Epoch: 1300, Loss: 0.3894929885864258, \n",
            "Epoch: 1350, Loss: 0.09911906719207764, \n",
            "Epoch: 1400, Loss: 0.29306453466415405, \n",
            "Epoch: 1450, Loss: 0.42552030086517334, \n",
            "Epoch: 1500, Loss: 0.19600045680999756, \n",
            "Epoch: 1550, Loss: 0.1899392008781433, \n",
            "Epoch: 1600, Loss: 0.010805845260620117, \n",
            "Epoch: 1650, Loss: 0.1514756679534912, \n",
            "Epoch: 1700, Loss: 0.39524388313293457, \n",
            "Epoch: 1750, Loss: 0.22754240036010742, \n",
            "Epoch: 1800, Loss: 0.2344444990158081, \n",
            "Epoch: 1850, Loss: 0.1880146861076355, \n",
            "Epoch: 1900, Loss: 0.29399561882019043, \n",
            "Epoch: 1950, Loss: 0.061896681785583496, \n",
            "Epoch: 2000, Loss: 0.06873571872711182, \n"
          ]
        }
      ]
    },
    {
      "cell_type": "code",
      "metadata": {
        "id": "QV0dIdveyCRi"
      },
      "source": [
        ""
      ],
      "execution_count": null,
      "outputs": []
    }
  ]
}